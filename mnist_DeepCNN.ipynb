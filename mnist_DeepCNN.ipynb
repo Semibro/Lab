{
 "cells": [
  {
   "cell_type": "code",
   "execution_count": 1,
   "id": "191d7d3f",
   "metadata": {},
   "outputs": [],
   "source": [
    "import numpy as np\n",
    "import matplotlib.pyplot as plt\n",
    "import tensorflow as tf\n",
    "from tensorflow.keras.datasets import mnist\n",
    "from tensorflow.keras.models import Sequential\n",
    "from tensorflow.keras.layers import Flatten, Dense, Conv2D, MaxPooling2D, BatchNormalization, Dropout\n",
    "from tensorflow.keras.losses import SparseCategoricalCrossentropy\n",
    "from tensorflow.keras.optimizers import Adam"
   ]
  },
  {
   "cell_type": "code",
   "execution_count": 8,
   "id": "4f1696e3",
   "metadata": {},
   "outputs": [],
   "source": [
    "def load_mnist_dataset():\n",
    "    (train_validation_images, train_validation_labels), (test_images, test_labels) = mnist.load_data()\n",
    "    \n",
    "    train_validation_images = train_validation_images.reshape(-1, 28, 28, 1)\n",
    "    test_images = test_images.reshape(-1, 28, 28, 1)\n",
    "    #reshape(데이터개수, 가로픽셀수, 세로픽셀수, 채널)\n",
    "    #reshape에서 데이터개수가 -1이면 현재 데이터의 개수 그대로 사용\n",
    "    #채널의 경우 흑백이라 1, 컬러 사진이라면(RGB) 3채널\n",
    "    \n",
    "    train_validation_images = train_validation_images / 255.\n",
    "    test_images = test_images / 255.\n",
    "    #normalization (정규화)\n",
    "    #실제 픽셀에 들어있는 값이 0 ~ 255이므로 255로 나누어 1이하가 되도록 normalization\n",
    "    \n",
    "    n_train_validation = train_validation_images.shape[0]\n",
    "    train_ratio = 0.8\n",
    "    #80% train data / 20% validation data\n",
    "    n_train = int(n_train_validation * train_ratio)\n",
    "    \n",
    "    train_x = train_validation_images[:n_train]\n",
    "    train_y = train_validation_labels[:n_train]\n",
    "    validation_x = train_validation_images[n_train:]\n",
    "    validation_y = train_validation_labels[n_train:]\n",
    "    test_x = test_images\n",
    "    test_y = test_labels\n",
    "    \n",
    "    print('Train Set')\n",
    "    print('Image : ', train_x.shape)\n",
    "    print('Label : ', train_y.shape)\n",
    "    print('Validation Set')\n",
    "    print('Image : ', validation_x.shape)\n",
    "    print('Label : ', validation_y.shape)\n",
    "    print('Train & Validation Set')\n",
    "    print('Image : ', test_x.shape)\n",
    "    print('Label : ', test_y.shape)\n",
    "\n",
    "    return train_x, train_y, validation_x, validation_y, test_x, test_y"
   ]
  },
  {
   "cell_type": "code",
   "execution_count": 9,
   "id": "b6ae42e9",
   "metadata": {},
   "outputs": [
    {
     "name": "stdout",
     "output_type": "stream",
     "text": [
      "Train Set\n",
      "Image :  (48000, 28, 28, 1)\n",
      "Label :  (48000,)\n",
      "Validation Set\n",
      "Image :  (12000, 28, 28, 1)\n",
      "Label :  (12000,)\n",
      "Train & Validation Set\n",
      "Image :  (10000, 28, 28, 1)\n",
      "Label :  (10000,)\n"
     ]
    }
   ],
   "source": [
    "train_x, train_y, validation_x, validation_y, test_x, test_y = load_mnist_dataset()"
   ]
  },
  {
   "cell_type": "code",
   "execution_count": 12,
   "id": "832b2b53",
   "metadata": {},
   "outputs": [],
   "source": [
    "#Deep CNN Model\n",
    "#5개의 Convolution Layer & 2개의 FC Layer\n",
    "model = Sequential()\n",
    "model.add(Conv2D(filters = 24, kernel_size = (3, 3), padding = 'same', activation = 'relu'))\n",
    "model.add(BatchNormalization())\n",
    "model.add(Conv2D(filters = 36, kernel_size = (3, 3), padding = 'same', activation = 'relu'))\n",
    "model.add(BatchNormalization())\n",
    "model.add(Conv2D(filters = 48, kernel_size = (3, 3), padding = 'same', activation = 'relu'))\n",
    "model.add(BatchNormalization())\n",
    "model.add(MaxPooling2D(pool_size = (2, 2), strides = (2, 2)))\n",
    "model.add(Conv2D(filters = 60, kernel_size = (3, 3), padding = 'same', activation = 'relu'))\n",
    "model.add(MaxPooling2D(pool_size = (2, 2), strides = (2, 2)))\n",
    "model.add(Conv2D(filters = 72, kernel_size = (3, 3), padding = 'same', activation = 'relu'))\n",
    "model.add(BatchNormalization())\n",
    "model.add(MaxPooling2D(pool_size = (2, 2), strides = (2, 2)))\n",
    "model.add(Flatten())\n",
    "model.add(Dense(128, activation = 'relu'))\n",
    "model.add(Dropout(0.5))\n",
    "model.add(Dense(10, activation = 'softmax'))\n",
    "\n",
    "model.compile(loss = 'sparse_categorical_crossentropy', optimizer = 'Adam', metrics = ['accuracy'])"
   ]
  },
  {
   "cell_type": "code",
   "execution_count": 13,
   "id": "f0a56a28",
   "metadata": {},
   "outputs": [
    {
     "name": "stdout",
     "output_type": "stream",
     "text": [
      "Conv2D output shape : \t (1, 28, 28, 24)\n",
      "BatchNormalization output shape : \t (1, 28, 28, 24)\n",
      "Conv2D output shape : \t (1, 28, 28, 36)\n",
      "BatchNormalization output shape : \t (1, 28, 28, 36)\n",
      "Conv2D output shape : \t (1, 28, 28, 48)\n",
      "BatchNormalization output shape : \t (1, 28, 28, 48)\n",
      "MaxPooling2D output shape : \t (1, 14, 14, 48)\n",
      "Conv2D output shape : \t (1, 14, 14, 60)\n",
      "MaxPooling2D output shape : \t (1, 7, 7, 60)\n",
      "Conv2D output shape : \t (1, 7, 7, 72)\n",
      "BatchNormalization output shape : \t (1, 7, 7, 72)\n",
      "MaxPooling2D output shape : \t (1, 3, 3, 72)\n",
      "Flatten output shape : \t (1, 648)\n",
      "Dense output shape : \t (1, 128)\n",
      "Dropout output shape : \t (1, 128)\n",
      "Dense output shape : \t (1, 10)\n"
     ]
    }
   ],
   "source": [
    "x = tf.random.uniform(shape = (1, 28, 28, 1))\n",
    "for layer in model.layers:\n",
    "    x = layer(x)\n",
    "    print(layer.__class__.__name__, 'output shape : \\t', x.shape)"
   ]
  },
  {
   "cell_type": "code",
   "execution_count": 14,
   "id": "7e1bff92",
   "metadata": {},
   "outputs": [
    {
     "name": "stdout",
     "output_type": "stream",
     "text": [
      "Epoch 1/10\n",
      "5334/5334 - 25s - loss: 0.2036 - accuracy: 0.9402 - val_loss: 0.0934 - val_accuracy: 0.9728 - 25s/epoch - 5ms/step\n",
      "Epoch 2/10\n",
      "5334/5334 - 21s - loss: 0.0917 - accuracy: 0.9748 - val_loss: 0.0521 - val_accuracy: 0.9868 - 21s/epoch - 4ms/step\n",
      "Epoch 3/10\n",
      "5334/5334 - 21s - loss: 0.0720 - accuracy: 0.9806 - val_loss: 0.0411 - val_accuracy: 0.9912 - 21s/epoch - 4ms/step\n",
      "Epoch 4/10\n",
      "5334/5334 - 21s - loss: 0.0571 - accuracy: 0.9846 - val_loss: 0.0397 - val_accuracy: 0.9882 - 21s/epoch - 4ms/step\n",
      "Epoch 5/10\n",
      "5334/5334 - 21s - loss: 0.0467 - accuracy: 0.9870 - val_loss: 0.0448 - val_accuracy: 0.9898 - 21s/epoch - 4ms/step\n",
      "Epoch 6/10\n",
      "5334/5334 - 21s - loss: 0.0443 - accuracy: 0.9882 - val_loss: 0.0805 - val_accuracy: 0.9844 - 21s/epoch - 4ms/step\n",
      "Epoch 7/10\n",
      "5334/5334 - 21s - loss: 0.0379 - accuracy: 0.9892 - val_loss: 0.0360 - val_accuracy: 0.9918 - 21s/epoch - 4ms/step\n",
      "Epoch 8/10\n",
      "5334/5334 - 21s - loss: 0.0349 - accuracy: 0.9900 - val_loss: 0.0410 - val_accuracy: 0.9912 - 21s/epoch - 4ms/step\n",
      "Epoch 9/10\n",
      "5334/5334 - 21s - loss: 0.0301 - accuracy: 0.9916 - val_loss: 0.0349 - val_accuracy: 0.9918 - 21s/epoch - 4ms/step\n",
      "Epoch 10/10\n",
      "5334/5334 - 21s - loss: 0.0273 - accuracy: 0.9926 - val_loss: 0.0412 - val_accuracy: 0.9923 - 21s/epoch - 4ms/step\n"
     ]
    }
   ],
   "source": [
    "history = model.fit(train_x, train_y, batch_size = 9, epochs = 10, verbose = 2, validation_data = (validation_x, validation_y))"
   ]
  },
  {
   "cell_type": "code",
   "execution_count": 15,
   "id": "de6c0869",
   "metadata": {},
   "outputs": [
    {
     "name": "stderr",
     "output_type": "stream",
     "text": [
      "C:\\Users\\Public\\Documents\\ESTsoft\\CreatorTemp\\ipykernel_14524\\3306111965.py:14: UserWarning: Matplotlib is currently using module://matplotlib_inline.backend_inline, which is a non-GUI backend, so cannot show the figure.\n",
      "  fig.show()\n"
     ]
    },
    {
     "data": {
      "image/png": "[encoded data removed]",
      "text/plain": [
       "<Figure size 432x288 with 2 Axes>"
      ]
     },
     "metadata": {
      "needs_background": "light"
     },
     "output_type": "display_data"
    }
   ],
   "source": [
    "fig, axes = plt.subplots(2, 1)\n",
    "\n",
    "axes[0].plot(history.history['loss'], label = 'Train loss')\n",
    "axes[0].plot(history.history['val_loss'], label = 'Validation loss')\n",
    "axes[0].set_ylabel('Crossentropy')\n",
    "axes[0].legend()\n",
    "\n",
    "axes[1].plot(history.history['accuracy'], label = 'Train accuracy')\n",
    "axes[1].plot(history.history['val_accuracy'], label = 'Validation accuracy')\n",
    "axes[1].legend()\n",
    "axes[1].set_ylabel('Accuracy')\n",
    "axes[1].set_xlabel('Epochs')\n",
    "\n",
    "fig.show()"
   ]
  },
  {
   "cell_type": "code",
   "execution_count": 16,
   "id": "3e879c87",
   "metadata": {},
   "outputs": [
    {
     "name": "stdout",
     "output_type": "stream",
     "text": [
      "313/313 - 1s - loss: 0.0256 - accuracy: 0.9930 - 969ms/epoch - 3ms/step\n",
      "Test loss : 0.0256\t Test accuracy : 99.30%\n"
     ]
    }
   ],
   "source": [
    "result = model.evaluate(test_x, test_y, verbose = 2)\n",
    "\n",
    "print('Test loss : {:.4f}\\t Test accuracy : {:.2f}%'.format(result[0], result[1] * 100))"
   ]
  },
  {
   "cell_type": "code",
   "execution_count": 17,
   "id": "8bdf21ce",
   "metadata": {},
   "outputs": [
    {
     "name": "stdout",
     "output_type": "stream",
     "text": [
      "313/313 [==============================] - 1s 2ms/step\n",
      "Probability is [0. 0. 0. 0. 0. 0. 0. 1. 0. 0.]\n"
     ]
    },
    {
     "data": {
      "image/png": "[encoded data removed]",
      "text/plain": [
       "<Figure size 432x288 with 1 Axes>"
      ]
     },
     "metadata": {
      "needs_background": "light"
     },
     "output_type": "display_data"
    }
   ],
   "source": [
    "prediction = model.predict(test_x)\n",
    "plt.imshow(test_x[0], 'gray')\n",
    "print('Probability is {}'.format(prediction[0].round()))\n",
    "plt.title('Prediction is {}'.format(np.argmax(prediction[0])))\n",
    "plt.show()"
   ]
  },
  {
   "cell_type": "code",
   "execution_count": 19,
   "id": "2e1623df",
   "metadata": {},
   "outputs": [
    {
     "name": "stdout",
     "output_type": "stream",
     "text": [
      "Model: \"sequential\"\n",
      "_________________________________________________________________\n",
      " Layer (type)                Output Shape              Param #   \n",
      "=================================================================\n",
      " conv2d (Conv2D)             (None, 28, 28, 24)        240       \n",
      "                                                                 \n",
      " batch_normalization (BatchN  (None, 28, 28, 24)       96        \n",
      " ormalization)                                                   \n",
      "                                                                 \n",
      " conv2d_1 (Conv2D)           (None, 28, 28, 36)        7812      \n",
      "                                                                 \n",
      " batch_normalization_1 (Batc  (None, 28, 28, 36)       144       \n",
      " hNormalization)                                                 \n",
      "                                                                 \n",
      " conv2d_2 (Conv2D)           (None, 28, 28, 48)        15600     \n",
      "                                                                 \n",
      " batch_normalization_2 (Batc  (None, 28, 28, 48)       192       \n",
      " hNormalization)                                                 \n",
      "                                                                 \n",
      " max_pooling2d (MaxPooling2D  (None, 14, 14, 48)       0         \n",
      " )                                                               \n",
      "                                                                 \n",
      " conv2d_3 (Conv2D)           (None, 14, 14, 60)        25980     \n",
      "                                                                 \n",
      " max_pooling2d_1 (MaxPooling  (None, 7, 7, 60)         0         \n",
      " 2D)                                                             \n",
      "                                                                 \n",
      " conv2d_4 (Conv2D)           (None, 7, 7, 72)          38952     \n",
      "                                                                 \n",
      " batch_normalization_3 (Batc  (None, 7, 7, 72)         288       \n",
      " hNormalization)                                                 \n",
      "                                                                 \n",
      " max_pooling2d_2 (MaxPooling  (None, 3, 3, 72)         0         \n",
      " 2D)                                                             \n",
      "                                                                 \n",
      " flatten (Flatten)           (None, 648)               0         \n",
      "                                                                 \n",
      " dense (Dense)               (None, 128)               83072     \n",
      "                                                                 \n",
      " dropout (Dropout)           (None, 128)               0         \n",
      "                                                                 \n",
      " dense_1 (Dense)             (None, 10)                1290      \n",
      "                                                                 \n",
      "=================================================================\n",
      "Total params: 173,666\n",
      "Trainable params: 173,306\n",
      "Non-trainable params: 360\n",
      "_________________________________________________________________\n"
     ]
    }
   ],
   "source": [
    "model.summary()"
   ]
  },
  {
   "cell_type": "code",
   "execution_count": null,
   "id": "30f1290e",
   "metadata": {},
   "outputs": [],
   "source": []
  }
 ],
 "metadata": {
  "kernelspec": {
   "display_name": "Python 3 (ipykernel)",
   "language": "python",
   "name": "python3"
  },
  "language_info": {
   "codemirror_mode": {
    "name": "ipython",
    "version": 3
   },
   "file_extension": ".py",
   "mimetype": "text/x-python",
   "name": "python",
   "nbconvert_exporter": "python",
   "pygments_lexer": "ipython3",
   "version": "3.9.12"
  }
 },
 "nbformat": 4,
 "nbformat_minor": 5
}
